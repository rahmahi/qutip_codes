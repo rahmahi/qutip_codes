{
 "cells": [
  {
   "cell_type": "markdown",
   "metadata": {},
   "source": [
    "# Mean field Floquet dynamics\n",
    "Consider the Hamiltonian of the type\n",
    "\\begin{equation}\n",
    "\\hat{H}(t) = \\hat{H}_0 + \\left(h \\cos{(\\omega t)} + h_0\\right)\\; \\hat{H}_1,\n",
    "\\end{equation}\n",
    "\n",
    "where\n",
    "\n",
    "\\begin{eqnarray}\n",
    "\\hat{H}_0 &=& -\\frac{1}{2N}\\sum_{ij}\\hat{\\sigma}^z_i\\hat{\\sigma}^z_j,\\\\\n",
    "\\hat{H}_1 &=& \\sum_i\\hat{\\sigma}^x_i.\n",
    "\\end{eqnarray}\n",
    "\n",
    "Here, we have $N$ spin-$1/2$ particles in a $1-$dimensional lattice, and $i,j$ are site indices. We will now attempt a numerical evaluation of\n",
    "the Floquet eigenspectrum of this system.\n",
    "\n",
    "First, define permutation operator $P_{ij} = \\displaystyle\\frac{1}{2}\\left(1+ \\vec{\\sigma}_i\\cdot\\vec{\\sigma}_j\\right)$,\n",
    "and note that $[P_{ij}, H]=0$. Thus, we can reduce the problem size from the full $2^N\\times 2^N$ Hilbert space\n",
    "to the subspace spanned by the degenerate eigenvectors of $P_{ij}$ corresponding to a single eigenvalue, say $1$.\n",
    "This is isomorphic to the subspace spanned by degenerate eigenstates of the operator $S^2=|\\vec{S}|^2$ with eigenvalue\n",
    "$\\displaystyle\\frac{N}{2}\\left(\\frac{N}{2}+1\\right)$, where\n",
    "\n",
    "\\begin{equation}\n",
    "\\vec{S}=S^x\\hat{x}+S^y\\hat{y}+S^z\\hat{z}\\equiv \\sum_i \\vec{\\sigma}_i.\n",
    "\\end{equation}\n",
    "\n",
    "Note that, since $[S^2, S^z]=0$, these are also eigenstates of $S^z$ in this so-called\n",
    "TSS subspace. The corresponding eigenvalues are $Ns_n$, where $s_n=-\\frac{1}{2}+\\frac{n}{N}$ and the index\n",
    "$n= 0 (1) N$ has $N+1$ values. Thus\n",
    "\n",
    "\\begin{equation}\n",
    "S^z |s_n\\rangle = Ns_n|s_n\\rangle,\n",
    "\\end{equation}\n",
    "\n",
    "and the matrix elements $(S^z)_{ij} = Ns_s\\delta_{ij}$. Furthermore, defining ladder operators\n",
    "\n",
    "\\begin{equation}\n",
    "S_\\pm \\equiv S^x \\pm i S^y,\n",
    "\\end{equation}\n",
    "\n",
    "and using the result\n",
    "\n",
    "\\begin{equation}\n",
    "S_\\pm |s_n\\rangle = \\sqrt{\\frac{N}{2}\\left(\\frac{N}{2}+1\\right) - Ns_n\\left(Ns_{n\\pm 1}\\right)}\\;\\;|s_{n\\pm 1}\\rangle,\n",
    "\\end{equation}\n",
    "\n",
    "we can obtain the matrix elements $S^x = S_+ + S_-$ to be\n",
    "\n",
    "\\begin{multline}\n",
    "(S^x)_{nm} = \\frac{1}{2}\\bigg[\\sqrt{\\frac{N}{2}\\left(\\frac{N}{2}+1\\right) - Ns_n\\left(Ns_{n + 1}\\right)}\\;\\;\\delta_{n+1, m}  \\\\\n",
    "                        +\\;\\sqrt{\\frac{N}{2}\\left(\\frac{N}{2}+1\\right) - Ns_n\\left(Ns_{n- 1}\\right)}\\;\\;\\delta_{n-1,m}\\bigg]\n",
    "\\end{multline}\n",
    "\n",
    "Note that, since the Hamiltonian can be readily written as\n",
    "$H(t) = -\\displaystyle\\frac{1}{2N}(S^z)^2 - h_0\\cos{(\\omega t )}S^x$, the matrix elements of\n",
    "\\begin{eqnarray}\n",
    "\\left(H_0\\right)_{ij} &=& -\\frac{N}{2} s^2_i \\delta_{ij},\\nonumber\\\\\n",
    "\\left(H_1\\right)_{ij} &=& \\frac{1}{2}\\bigg[\\sqrt{\\frac{N}{2}\\left(\\frac{N}{2}+1\\right) - Ns_i\\left(Ns_{i + 1}\\right)}\\;\\;\\delta_{i+1, j}  \\\\\n",
    "    & &                     +\\;\\sqrt{\\frac{N}{2}\\left(\\frac{N}{2}+1\\right) - Ns_i\\left(Ns_{i- 1}\\right)}\\;\\;\\delta_{i-1,j}\\bigg]\n",
    "\\end{eqnarray}\n",
    "\n",
    "Note that, in the continuum limit, $N\\rightarrow\\infty$, we can ignore the difference between adjacent values\n",
    "of $s_i$. Thus, the Hamiltonian per particle becomes $h(t)\\equiv \\displaystyle\\frac{1}{N}H(t) = h + h_0\\cos{(\\omega t)}h_1$, where\n",
    "\n",
    "\\begin{eqnarray}\n",
    "\\left(h\\right)_{ij} &\\approx& -\\frac{1}{2} s^2_i \\delta_{ij},\\nonumber\\\\\n",
    "h_0 &\\rightarrow& -\\frac{1}{2}s^2\\\\\n",
    "\\left(h_1\\right)_{ij} &\\approx& \\frac{1}{2}\\sqrt{\\frac{1}{4} - s^2_i}\\left[\\delta_{i+1, j}  + \\delta_{i-1,j}\\right]\\\\\n",
    "h_1 &\\rightarrow& \\sqrt{\\frac{1}{4} - s^2_i}\\;\\;\\cos{p},\n",
    "\\end{eqnarray}\n",
    "where we have expanded the matrix elements in a basis of $e^{ipx}$. In this limit, we obtain the Lipkin Model (Insert from previous notebook)\n",
    ".\n",
    "\n",
    "\n",
    "References:\n",
    "\n",
    "[1] Check T. Mori's paper equation (12)"
   ]
  },
  {
   "cell_type": "code",
   "execution_count": 43,
   "metadata": {},
   "outputs": [
    {
     "ename": "Exception",
     "evalue": "Invalid td-list element.",
     "output_type": "error",
     "traceback": [
      "\u001b[0;31m---------------------------------------------------------------------------\u001b[0m",
      "\u001b[0;31mException\u001b[0m                                 Traceback (most recent call last)",
      "\u001b[0;32m<ipython-input-43-5da70275cf92>\u001b[0m in \u001b[0;36m<module>\u001b[0;34m\u001b[0m\n\u001b[1;32m     40\u001b[0m     \u001b[0mH1\u001b[0m \u001b[0;34m=\u001b[0m \u001b[0mA\u001b[0m \u001b[0;34m*\u001b[0m \u001b[0mH11\u001b[0m\u001b[0;34m\u001b[0m\u001b[0;34m\u001b[0m\u001b[0m\n\u001b[1;32m     41\u001b[0m     \u001b[0mH\u001b[0m \u001b[0;34m=\u001b[0m \u001b[0;34m[\u001b[0m\u001b[0mH0\u001b[0m\u001b[0;34m,\u001b[0m \u001b[0;34m[\u001b[0m\u001b[0mH1\u001b[0m\u001b[0;34m,\u001b[0m \u001b[0;32mlambda\u001b[0m \u001b[0mt\u001b[0m\u001b[0;34m,\u001b[0m\u001b[0margs\u001b[0m\u001b[0;34m:\u001b[0m \u001b[0msin\u001b[0m\u001b[0;34m(\u001b[0m\u001b[0margs\u001b[0m\u001b[0;34m[\u001b[0m\u001b[0;34m'w'\u001b[0m\u001b[0;34m]\u001b[0m \u001b[0;34m*\u001b[0m \u001b[0mt\u001b[0m\u001b[0;34m)\u001b[0m\u001b[0;34m]\u001b[0m\u001b[0;34m]\u001b[0m\u001b[0;34m\u001b[0m\u001b[0;34m\u001b[0m\u001b[0m\n\u001b[0;32m---> 42\u001b[0;31m     \u001b[0mf_modes\u001b[0m\u001b[0;34m,\u001b[0m \u001b[0mf_energies\u001b[0m \u001b[0;34m=\u001b[0m \u001b[0mfloquet_modes\u001b[0m\u001b[0;34m(\u001b[0m\u001b[0mH\u001b[0m\u001b[0;34m,\u001b[0m \u001b[0mT\u001b[0m\u001b[0;34m,\u001b[0m \u001b[0margs\u001b[0m\u001b[0;34m,\u001b[0m \u001b[0;32mTrue\u001b[0m\u001b[0;34m)\u001b[0m\u001b[0;34m\u001b[0m\u001b[0;34m\u001b[0m\u001b[0m\n\u001b[0m\u001b[1;32m     43\u001b[0m     \u001b[0mq_energies\u001b[0m\u001b[0;34m[\u001b[0m\u001b[0midx\u001b[0m\u001b[0;34m,\u001b[0m\u001b[0;34m:\u001b[0m\u001b[0;34m]\u001b[0m \u001b[0;34m=\u001b[0m \u001b[0mf_energies\u001b[0m\u001b[0;34m\u001b[0m\u001b[0;34m\u001b[0m\u001b[0m\n\u001b[1;32m     44\u001b[0m \u001b[0;34m\u001b[0m\u001b[0m\n",
      "\u001b[0;32m~/.local/lib/python3.8/site-packages/qutip/floquet.py\u001b[0m in \u001b[0;36mfloquet_modes\u001b[0;34m(H, T, args, sort, U)\u001b[0m\n\u001b[1;32m    100\u001b[0m     \u001b[0;32mif\u001b[0m \u001b[0mU\u001b[0m \u001b[0;32mis\u001b[0m \u001b[0;32mNone\u001b[0m\u001b[0;34m:\u001b[0m\u001b[0;34m\u001b[0m\u001b[0;34m\u001b[0m\u001b[0m\n\u001b[1;32m    101\u001b[0m         \u001b[0;31m# get the unitary propagator\u001b[0m\u001b[0;34m\u001b[0m\u001b[0;34m\u001b[0m\u001b[0;34m\u001b[0m\u001b[0m\n\u001b[0;32m--> 102\u001b[0;31m         \u001b[0mU\u001b[0m \u001b[0;34m=\u001b[0m \u001b[0mpropagator\u001b[0m\u001b[0;34m(\u001b[0m\u001b[0mH\u001b[0m\u001b[0;34m,\u001b[0m \u001b[0mT\u001b[0m\u001b[0;34m,\u001b[0m \u001b[0;34m[\u001b[0m\u001b[0;34m]\u001b[0m\u001b[0;34m,\u001b[0m \u001b[0margs\u001b[0m\u001b[0;34m)\u001b[0m\u001b[0;34m\u001b[0m\u001b[0;34m\u001b[0m\u001b[0m\n\u001b[0m\u001b[1;32m    103\u001b[0m \u001b[0;34m\u001b[0m\u001b[0m\n\u001b[1;32m    104\u001b[0m     \u001b[0;31m# find the eigenstates for the propagator\u001b[0m\u001b[0;34m\u001b[0m\u001b[0;34m\u001b[0m\u001b[0;34m\u001b[0m\u001b[0m\n",
      "\u001b[0;32m~/.local/lib/python3.8/site-packages/qutip/propagator.py\u001b[0m in \u001b[0;36mpropagator\u001b[0;34m(H, t, c_op_list, args, options, unitary_mode, parallel, progress_bar, _safe_mode, **kwargs)\u001b[0m\n\u001b[1;32m    127\u001b[0m \u001b[0;34m\u001b[0m\u001b[0m\n\u001b[1;32m    128\u001b[0m     \u001b[0;32mif\u001b[0m \u001b[0m_safe_mode\u001b[0m\u001b[0;34m:\u001b[0m\u001b[0;34m\u001b[0m\u001b[0;34m\u001b[0m\u001b[0m\n\u001b[0;32m--> 129\u001b[0;31m         \u001b[0m_solver_safety_check\u001b[0m\u001b[0;34m(\u001b[0m\u001b[0mH\u001b[0m\u001b[0;34m,\u001b[0m \u001b[0;32mNone\u001b[0m\u001b[0;34m,\u001b[0m \u001b[0mc_ops\u001b[0m\u001b[0;34m=\u001b[0m\u001b[0mc_op_list\u001b[0m\u001b[0;34m,\u001b[0m \u001b[0me_ops\u001b[0m\u001b[0;34m=\u001b[0m\u001b[0;34m[\u001b[0m\u001b[0;34m]\u001b[0m\u001b[0;34m,\u001b[0m \u001b[0margs\u001b[0m\u001b[0;34m=\u001b[0m\u001b[0margs\u001b[0m\u001b[0;34m)\u001b[0m\u001b[0;34m\u001b[0m\u001b[0;34m\u001b[0m\u001b[0m\n\u001b[0m\u001b[1;32m    130\u001b[0m \u001b[0;34m\u001b[0m\u001b[0m\n\u001b[1;32m    131\u001b[0m     \u001b[0mtd_type\u001b[0m \u001b[0;34m=\u001b[0m \u001b[0m_td_format_check\u001b[0m\u001b[0;34m(\u001b[0m\u001b[0mH\u001b[0m\u001b[0;34m,\u001b[0m \u001b[0mc_op_list\u001b[0m\u001b[0;34m,\u001b[0m \u001b[0msolver\u001b[0m\u001b[0;34m=\u001b[0m\u001b[0;34m'me'\u001b[0m\u001b[0;34m)\u001b[0m\u001b[0;34m\u001b[0m\u001b[0;34m\u001b[0m\u001b[0m\n",
      "\u001b[0;32m~/.local/lib/python3.8/site-packages/qutip/solver.py\u001b[0m in \u001b[0;36m_solver_safety_check\u001b[0;34m(H, state, c_ops, e_ops, args)\u001b[0m\n\u001b[1;32m    912\u001b[0m             \u001b[0mHtype\u001b[0m \u001b[0;34m=\u001b[0m \u001b[0mH\u001b[0m\u001b[0;34m[\u001b[0m\u001b[0;36m0\u001b[0m\u001b[0;34m]\u001b[0m\u001b[0;34m(\u001b[0m\u001b[0;36m0\u001b[0m\u001b[0;34m,\u001b[0m\u001b[0margs\u001b[0m\u001b[0;34m)\u001b[0m\u001b[0;34m.\u001b[0m\u001b[0mtype\u001b[0m\u001b[0;34m\u001b[0m\u001b[0;34m\u001b[0m\u001b[0m\n\u001b[1;32m    913\u001b[0m         \u001b[0;32melse\u001b[0m\u001b[0;34m:\u001b[0m\u001b[0;34m\u001b[0m\u001b[0;34m\u001b[0m\u001b[0m\n\u001b[0;32m--> 914\u001b[0;31m             \u001b[0;32mraise\u001b[0m \u001b[0mException\u001b[0m\u001b[0;34m(\u001b[0m\u001b[0;34m'Invalid td-list element.'\u001b[0m\u001b[0;34m)\u001b[0m\u001b[0;34m\u001b[0m\u001b[0;34m\u001b[0m\u001b[0m\n\u001b[0m\u001b[1;32m    915\u001b[0m         \u001b[0;31m# Check all operators in list\u001b[0m\u001b[0;34m\u001b[0m\u001b[0;34m\u001b[0m\u001b[0;34m\u001b[0m\u001b[0m\n\u001b[1;32m    916\u001b[0m         \u001b[0;32mfor\u001b[0m \u001b[0mii\u001b[0m \u001b[0;32min\u001b[0m \u001b[0mrange\u001b[0m\u001b[0;34m(\u001b[0m\u001b[0mlen\u001b[0m\u001b[0;34m(\u001b[0m\u001b[0mH\u001b[0m\u001b[0;34m)\u001b[0m\u001b[0;34m)\u001b[0m\u001b[0;34m:\u001b[0m\u001b[0;34m\u001b[0m\u001b[0;34m\u001b[0m\u001b[0m\n",
      "\u001b[0;31mException\u001b[0m: Invalid td-list element."
     ]
    }
   ],
   "source": [
    "import numpy as np\n",
    "from qutip import *\n",
    "from scipy import *\n",
    "from pylab import *\n",
    "from array import *\n",
    "\n",
    "def delta_func(x,y):\n",
    "    if ( x == y ):\n",
    "        return 1.0\n",
    "    else:\n",
    "        return 0.0\n",
    "    \n",
    "\n",
    "N = 2\n",
    "dc = 0.1\n",
    "hsteps = 100\n",
    "tsteps = hsteps +1\n",
    "s = -0.5 + (1./N) * np.arange(N)\n",
    "H0 = np.diagflat(-0.5 * (N * s)**2) \n",
    "\n",
    "delta_matrix = np.zeros((N,N))\n",
    "for i in np.arange(N):\n",
    "    for j in np.arange(N):\n",
    "        delta_matrix[i][j] = delta_func(i+1,j) + delta_func(i-1,j)\n",
    "\n",
    "H11 = 0.5 * np.sqrt(0.25*N*N - (N * s)**2) * delta_matrix * qeye(N)\n",
    "\n",
    "omega = 40.0\n",
    "args = {'w': omega}\n",
    "A_vec = np.linspace(0, 10, 100)\n",
    "\n",
    "\n",
    "H0 = (H0 + dc * H11) * qeye(N)\n",
    "T = (2*pi)/omega\n",
    "tlist  = np.linspace(0.0, 10 * T, 101)\n",
    "psi0   = basis(N,0)\n",
    "q_energies = np.zeros((len(A_vec), N))\n",
    "\n",
    "for idx, A in enumerate(A_vec):\n",
    "    H1 = A * H11\n",
    "    H = [H0, [H1, lambda t,args: sin(args['w'] * t)]]\n",
    "    f_modes, f_energies = floquet_modes(H, T, args, True)\n",
    "    q_energies[idx,:] = f_energies\n",
    "    \n",
    "figure()\n",
    "plot(A_vec/omega, q_energies[:,0] / delta, 'b', A_vec/omega, q_energies[:,1] / delta, 'r')\n",
    "xlabel(r'$A/\\omega$')\n",
    "ylabel(r'Quasienergy / $\\Delta$')\n",
    "title(r'Floquet quasienergies')\n",
    "show()\n"
   ]
  },
  {
   "cell_type": "code",
   "execution_count": 33,
   "metadata": {},
   "outputs": [
    {
     "ename": "ValueError",
     "evalue": "All basis indices must be `offset <= n < dimension+offset`.",
     "output_type": "error",
     "traceback": [
      "\u001b[0;31m---------------------------------------------------------------------------\u001b[0m",
      "\u001b[0;31mValueError\u001b[0m                                Traceback (most recent call last)",
      "\u001b[0;32m<ipython-input-33-c11c55055e07>\u001b[0m in \u001b[0;36m<module>\u001b[0;34m\u001b[0m\n\u001b[1;32m     13\u001b[0m \u001b[0mq_energies\u001b[0m \u001b[0;34m=\u001b[0m \u001b[0mnp\u001b[0m\u001b[0;34m.\u001b[0m\u001b[0mzeros\u001b[0m\u001b[0;34m(\u001b[0m\u001b[0;34m(\u001b[0m\u001b[0mlen\u001b[0m\u001b[0;34m(\u001b[0m\u001b[0mA_vec\u001b[0m\u001b[0;34m)\u001b[0m\u001b[0;34m,\u001b[0m \u001b[0;36m2\u001b[0m\u001b[0;34m)\u001b[0m\u001b[0;34m)\u001b[0m\u001b[0;34m\u001b[0m\u001b[0;34m\u001b[0m\u001b[0m\n\u001b[1;32m     14\u001b[0m \u001b[0;34m\u001b[0m\u001b[0m\n\u001b[0;32m---> 15\u001b[0;31m \u001b[0mH0\u001b[0m \u001b[0;34m=\u001b[0m \u001b[0mdelta\u001b[0m\u001b[0;34m/\u001b[0m\u001b[0;36m2.0\u001b[0m \u001b[0;34m*\u001b[0m \u001b[0msigmaz\u001b[0m\u001b[0;34m(\u001b[0m\u001b[0;34m)\u001b[0m \u001b[0;34m-\u001b[0m \u001b[0meps0\u001b[0m\u001b[0;34m/\u001b[0m\u001b[0;36m2.0\u001b[0m \u001b[0;34m*\u001b[0m \u001b[0msigmax\u001b[0m\u001b[0;34m(\u001b[0m\u001b[0;34m)\u001b[0m \u001b[0;34m*\u001b[0m \u001b[0mbasis\u001b[0m\u001b[0;34m(\u001b[0m\u001b[0mN\u001b[0m\u001b[0;34m,\u001b[0m\u001b[0mN\u001b[0m\u001b[0;34m)\u001b[0m\u001b[0;34m\u001b[0m\u001b[0;34m\u001b[0m\u001b[0m\n\u001b[0m\u001b[1;32m     16\u001b[0m \u001b[0margs\u001b[0m \u001b[0;34m=\u001b[0m \u001b[0;34m{\u001b[0m\u001b[0;34m'w'\u001b[0m\u001b[0;34m:\u001b[0m \u001b[0momega\u001b[0m\u001b[0;34m}\u001b[0m\u001b[0;34m\u001b[0m\u001b[0;34m\u001b[0m\u001b[0m\n\u001b[1;32m     17\u001b[0m \u001b[0;34m\u001b[0m\u001b[0m\n",
      "\u001b[0;32m~/.local/lib/python3.8/site-packages/qutip/states.py\u001b[0m in \u001b[0;36mbasis\u001b[0;34m(dimensions, n, offset)\u001b[0m\n\u001b[1;32m    142\u001b[0m         \u001b[0;32mraise\u001b[0m \u001b[0mValueError\u001b[0m\u001b[0;34m(\u001b[0m\u001b[0;34m\"All dimensions must be >= 0.\"\u001b[0m\u001b[0;34m)\u001b[0m\u001b[0;34m\u001b[0m\u001b[0;34m\u001b[0m\u001b[0m\n\u001b[1;32m    143\u001b[0m     \u001b[0;32mif\u001b[0m \u001b[0;32mnot\u001b[0m \u001b[0mall\u001b[0m\u001b[0;34m(\u001b[0m\u001b[0;36m0\u001b[0m \u001b[0;34m<=\u001b[0m \u001b[0mn\u001b[0m \u001b[0;34m<\u001b[0m \u001b[0mdimension\u001b[0m \u001b[0;32mfor\u001b[0m \u001b[0mn\u001b[0m\u001b[0;34m,\u001b[0m \u001b[0mdimension\u001b[0m \u001b[0;32min\u001b[0m \u001b[0mzip\u001b[0m\u001b[0;34m(\u001b[0m\u001b[0mns\u001b[0m\u001b[0;34m,\u001b[0m \u001b[0mdimensions\u001b[0m\u001b[0;34m)\u001b[0m\u001b[0;34m)\u001b[0m\u001b[0;34m:\u001b[0m\u001b[0;34m\u001b[0m\u001b[0;34m\u001b[0m\u001b[0m\n\u001b[0;32m--> 144\u001b[0;31m         raise ValueError(\"All basis indices must be \"\n\u001b[0m\u001b[1;32m    145\u001b[0m                          \"`offset <= n < dimension+offset`.\")\n\u001b[1;32m    146\u001b[0m     \u001b[0mlocation\u001b[0m\u001b[0;34m,\u001b[0m \u001b[0msize\u001b[0m \u001b[0;34m=\u001b[0m \u001b[0;36m0\u001b[0m\u001b[0;34m,\u001b[0m \u001b[0;36m1\u001b[0m\u001b[0;34m\u001b[0m\u001b[0;34m\u001b[0m\u001b[0m\n",
      "\u001b[0;31mValueError\u001b[0m: All basis indices must be `offset <= n < dimension+offset`."
     ]
    }
   ],
   "source": [
    "# example\n",
    "import numpy as np\n",
    "from qutip import *\n",
    "from scipy import *\n",
    "from pylab import *\n",
    "\n",
    "delta = 0.2 * 2*np.pi; eps0  = 0.0 * 2*np.pi\n",
    "omega = 1.0 * 2*np.pi; A_vec = np.linspace(0, 10, 100) * omega;\n",
    "T = (2*pi)/omega\n",
    "\n",
    "tlist  = np.linspace(0.0, 10 * T, 101)\n",
    "psi0   = basis(2,0)\n",
    "q_energies = np.zeros((len(A_vec), 2))\n",
    "\n",
    "H0 = delta/2.0 * sigmaz() - eps0/2.0 * sigmax() \n",
    "args = {'w': omega}\n",
    "\n",
    "for idx, A in enumerate(A_vec):\n",
    "    H1 = A/2.0 * sigmax()\n",
    "    H = [H0, [H1, lambda t,args: sin(args['w'] * t)]]\n",
    "    print('H',H)\n",
    "    f_modes, f_energies = floquet_modes(H, T, args, True)\n",
    "    q_energies[idx,:] = f_energies\n",
    "    \n",
    "figure()\n",
    "plot(A_vec/omega, q_energies[:,0] / delta, 'b', A_vec/omega, q_energies[:,1] / delta, 'r')\n",
    "xlabel(r'$A/\\omega$')\n",
    "ylabel(r'Quasienergy / $\\Delta$')\n",
    "title(r'Floquet quasienergies')\n",
    "show()"
   ]
  },
  {
   "cell_type": "code",
   "execution_count": 38,
   "metadata": {},
   "outputs": [
    {
     "data": {
      "text/latex": [
       "Quantum object: dims = [[3], [3]], shape = (3, 3), type = oper, isherm = True\\begin{equation*}\\left(\\begin{array}{*{11}c}1.0 & 0.0 & 0.0\\\\0.0 & 1.0 & 0.0\\\\0.0 & 0.0 & 1.0\\\\\\end{array}\\right)\\end{equation*}"
      ],
      "text/plain": [
       "Quantum object: dims = [[3], [3]], shape = (3, 3), type = oper, isherm = True\n",
       "Qobj data =\n",
       "[[1. 0. 0.]\n",
       " [0. 1. 0.]\n",
       " [0. 0. 1.]]"
      ]
     },
     "execution_count": 38,
     "metadata": {},
     "output_type": "execute_result"
    }
   ],
   "source": [
    "qeye(3)"
   ]
  },
  {
   "cell_type": "code",
   "execution_count": null,
   "metadata": {},
   "outputs": [],
   "source": []
  }
 ],
 "metadata": {
  "kernelspec": {
   "display_name": "Python 3",
   "language": "python",
   "name": "python3"
  },
  "language_info": {
   "codemirror_mode": {
    "name": "ipython",
    "version": 3
   },
   "file_extension": ".py",
   "mimetype": "text/x-python",
   "name": "python",
   "nbconvert_exporter": "python",
   "pygments_lexer": "ipython3",
   "version": "3.8.2"
  }
 },
 "nbformat": 4,
 "nbformat_minor": 4
}
